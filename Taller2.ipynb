{
  "nbformat": 4,
  "nbformat_minor": 0,
  "metadata": {
    "colab": {
      "provenance": []
    },
    "kernelspec": {
      "name": "python3",
      "display_name": "Python 3"
    },
    "language_info": {
      "name": "python"
    }
  },
  "cells": [
    {
      "cell_type": "markdown",
      "source": [
        "# Datos inversion inicial\n",
        "La empresa ha recopilado los siguientes datos sobre cuatro clientes:"
      ],
      "metadata": {
        "id": "-jainifDbGZc"
      }
    },
    {
      "cell_type": "code",
      "execution_count": 7,
      "metadata": {
        "id": "Aamu4SX5aLR1"
      },
      "outputs": [],
      "source": [
        "\n",
        "clientes = [\"Juan Perez\", \"Maria Rodriguez\", \"Carlos Lopez\", \"Ana Gomez\"]\n",
        "montos_invertidos = [10000, 15000, 20000, 18000]\n",
        "rendimientos = [5.5, 6.0, 4.0, 7.5]\n",
        "\n",
        "cliente_1 = (clientes[0], montos_invertidos[0], rendimientos[0])\n",
        "cliente_2 = (clientes[1], montos_invertidos[1], rendimientos[1])\n",
        "cliente_3 = (clientes[2], montos_invertidos[2], rendimientos[2])\n",
        "cliente_4 = (clientes[3], montos_invertidos[3], rendimientos[3])\n",
        "\n"
      ]
    },
    {
      "cell_type": "code",
      "source": [
        "# Diccionario portafolio\n",
        "portafolio = {\n",
        "    \"Juan Perez\": {\"monto_invertido\": 10000, \"rendimiento\": 5.5},\n",
        "    \"Maria Rodriguez\": {\"monto_invertido\": 15000, \"rendimiento\": 6.0},\n",
        "    \"Carlos Lopez\": {\"monto_invertido\": 20000, \"rendimiento\": 4.0},\n",
        "    \"Ana Gomez\": {\"monto_invertido\": 18000, \"rendimiento\": 7.5}\n",
        "}\n",
        "\n",
        "# Imprimir clientes con rendimiento superior al 5%\n",
        "print(\"Clientes con rendimiento superior al 5%:\")\n",
        "for cliente, datos in portafolio.items():\n",
        "    if datos[\"rendimiento\"] > 5:\n",
        "        print(f\"{cliente} tiene un rendimiento de {datos['rendimiento']}%\")\n"
      ],
      "metadata": {
        "colab": {
          "base_uri": "https://localhost:8080/"
        },
        "id": "zXdJRqYTblSk",
        "outputId": "dbb258fb-66e7-4bd3-c985-17461d4f5680"
      },
      "execution_count": 6,
      "outputs": [
        {
          "output_type": "stream",
          "name": "stdout",
          "text": [
            "Clientes con rendimiento superior al 5%:\n",
            "Juan Perez tiene un rendimiento de 5.5%\n",
            "Maria Rodriguez tiene un rendimiento de 6.0%\n",
            "Ana Gomez tiene un rendimiento de 7.5%\n"
          ]
        }
      ]
    },
    {
      "cell_type": "code",
      "source": [
        "# Calcular rendimiento total del portafolio\n",
        "rendimiento_total = 0\n",
        "for cliente, datos in portafolio.items():\n",
        "    rendimiento_cliente = (datos[\"monto_invertido\"] * datos[\"rendimiento\"]) / 100\n",
        "    rendimiento_total += rendimiento_cliente\n",
        "\n",
        "print(f\"\\nEl rendimiento total del portafolio es: ${rendimiento_total:.2f}\")\n",
        "\n",
        "# Identificar al cliente con mayor rendimiento absoluto\n",
        "mayor_rendimiento = 0\n",
        "cliente_top = \"\"\n",
        "\n",
        "for cliente, datos in portafolio.items():\n",
        "    rendimiento_cliente = (datos[\"monto_invertido\"] * datos[\"rendimiento\"]) / 100\n",
        "    if rendimiento_cliente > mayor_rendimiento:\n",
        "        mayor_rendimiento = rendimiento_cliente\n",
        "        cliente_top = cliente\n",
        "\n",
        "print(f\"El cliente con mayor rendimiento absoluto es {cliente_top} con ${mayor_rendimiento:.2f}\")\n"
      ],
      "metadata": {
        "colab": {
          "base_uri": "https://localhost:8080/"
        },
        "id": "pM9IvYFgcQ_C",
        "outputId": "9a755a7a-820e-4fb1-c5d3-4b6e83334e38"
      },
      "execution_count": 8,
      "outputs": [
        {
          "output_type": "stream",
          "name": "stdout",
          "text": [
            "\n",
            "El rendimiento total del portafolio es: $3600.00\n",
            "El cliente con mayor rendimiento absoluto es Ana Gomez con $1350.00\n"
          ]
        }
      ]
    },
    {
      "cell_type": "code",
      "source": [
        "# Actualizar inversión de Carlos Lopez\n",
        "portafolio[\"Carlos Lopez\"][\"monto_invertido\"] = 25000\n",
        "\n",
        "# Añadir nuevo cliente: Laura Fernandez\n",
        "portafolio[\"Laura Fernandez\"] = {\"monto_invertido\": 22000, \"rendimiento\": 6.8}\n",
        "\n",
        "# Remover a Ana Gomez\n",
        "del portafolio[\"Ana Gomez\"]\n",
        "\n",
        "# Imprimir portafolio actualizado\n",
        "print(\"\\nPortafolio actualizado:\")\n",
        "for cliente, datos in portafolio.items():\n",
        "    print(f\"{cliente} -> Monto invertido: ${datos['monto_invertido']}, Rendimiento: {datos['rendimiento']}%\")\n"
      ],
      "metadata": {
        "colab": {
          "base_uri": "https://localhost:8080/"
        },
        "id": "ROtaqMxddP1y",
        "outputId": "b3979c28-0376-47e0-e489-e2e5525d52a1"
      },
      "execution_count": 9,
      "outputs": [
        {
          "output_type": "stream",
          "name": "stdout",
          "text": [
            "\n",
            "Portafolio actualizado:\n",
            "Juan Perez -> Monto invertido: $10000, Rendimiento: 5.5%\n",
            "Maria Rodriguez -> Monto invertido: $15000, Rendimiento: 6.0%\n",
            "Carlos Lopez -> Monto invertido: $25000, Rendimiento: 4.0%\n",
            "Laura Fernandez -> Monto invertido: $22000, Rendimiento: 6.8%\n"
          ]
        }
      ]
    }
  ]
}