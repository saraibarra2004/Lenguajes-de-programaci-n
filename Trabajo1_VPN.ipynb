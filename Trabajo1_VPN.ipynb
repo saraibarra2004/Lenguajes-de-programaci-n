{
  "nbformat": 4,
  "nbformat_minor": 0,
  "metadata": {
    "colab": {
      "provenance": []
    },
    "kernelspec": {
      "name": "python3",
      "display_name": "Python 3"
    },
    "language_info": {
      "name": "python"
    }
  },
  "cells": [
    {
      "cell_type": "code",
      "execution_count": null,
      "metadata": {
        "id": "_tSvSdcSLTzh"
      },
      "outputs": [],
      "source": []
    },
    {
      "cell_type": "markdown",
      "source": [
        "# Valor Presente Neto (VPN)\n",
        "El Valor Presente Neto (VPN) es un método de análisis financiero que se utiliza para evaluar la rentabilidad de una inversión. El VPN calcula el valor actual de los flujos de efectivo futuros que se esperan recibir de un proyecto, descontados a una tasa que refleja el costo del capital o la tasa de retorno requerida por los inversionistas.\n",
        "\n",
        "## Formula del Valor Presente Neto (VPN)\n",
        "La formula del valor se expresa de la siguiente manera:\n",
        "\n",
        "\\[\n",
        "$$\n",
        "VPN = \\sum_{t=0}^{n} \\frac{C_t}{(1+r)^t} - C_0\n",
        "$$\n",
        "\n",
        "\\]\n",
        "\n",
        "Donde:\n",
        "- \\(C_t\\) es el flujo de caja en el tiempo \\(t\\).\n",
        "- \\(r\\) es la tasa de descuento.\n",
        "- \\(n\\) es el numero total de periodos.\n",
        "- \\(C_0\\) es la inversion inicial.\n",
        "\n",
        "## Interpretacion\n",
        "- Si \\(VPN > 0\\), la inversion es rentable\n",
        "- Si \\(VPN < 0\\), la inversion no es rentable\n",
        "- Si \\(VPN = 0\\), la inversion no genera ni perdidas ni ganancias\n",
        "\n",
        "## Enlace util\n",
        "Para obtener una mayor informacion sobre el Valor Presente Neto, puedes consultar en el siguiente [enlace](https://financionario.com/definicion-valor-presente-neto-vpn)."
      ],
      "metadata": {
        "id": "OKAECw7VMHpl"
      }
    },
    {
      "cell_type": "code",
      "source": [
        "inversion_inicial = 10000\n",
        "flujo_ano_1 = 3000\n",
        "flujo_ano_2 = 3000\n",
        "flujo_ano_3 = 3000\n",
        "\n",
        "tasa_descuento = 0.05"
      ],
      "metadata": {
        "id": "cimpvqqlTI4_"
      },
      "execution_count": 1,
      "outputs": []
    },
    {
      "cell_type": "code",
      "source": [
        "vpn = (flujo_ano_1/((1+tasa_descuento)**1)) + (flujo_ano_2/((1+tasa_descuento)**2)) + (flujo_ano_3/((1+tasa_descuento)**3)) - inversion_inicial\n",
        "\n",
        "print(\"El Valor Presente Neto (VPN) es:\",vpn)\n"
      ],
      "metadata": {
        "colab": {
          "base_uri": "https://localhost:8080/"
        },
        "id": "56X98V7rl8BY",
        "outputId": "22522bc7-50c1-4540-ecdb-0ccd00618ae2"
      },
      "execution_count": 20,
      "outputs": [
        {
          "output_type": "stream",
          "name": "stdout",
          "text": [
            "El Valor Presente Neto (VPN) es: -1830.2559118885656\n"
          ]
        }
      ]
    },
    {
      "cell_type": "code",
      "source": [
        "if vpn > 0:\n",
        "    print(\"El proyecto es viable, ya que el VPN es positivo\")\n",
        "\n",
        "else:\n",
        "    print(\"El proyecto no es viable, ya que el VPN es negativo\")\n"
      ],
      "metadata": {
        "colab": {
          "base_uri": "https://localhost:8080/"
        },
        "id": "A6z6dKi7nIy2",
        "outputId": "13a5c4ca-ae23-4737-84f4-7fad51a47c78"
      },
      "execution_count": 21,
      "outputs": [
        {
          "output_type": "stream",
          "name": "stdout",
          "text": [
            "El proyecto no es viable, ya que el VPN es negativo\n"
          ]
        }
      ]
    }
  ]
}